{
 "cells": [
  {
   "cell_type": "code",
   "execution_count": 1,
   "metadata": {},
   "outputs": [],
   "source": [
    "from requests_html import HTMLSession"
   ]
  },
  {
   "cell_type": "code",
   "execution_count": 2,
   "metadata": {},
   "outputs": [],
   "source": [
    "lux = 'https://www.on-site.com/web/online_app/choose_unit?goal=6&attr=x20&property_id=225322&lease_id=0&unit_id=0&required='\n",
    "three_60 = 'https://www.on-site.com/web/online_app/choose_unit?goal=6&attr=x20&property_id=191247&lease_id=0&unit_id=0&required='"
   ]
  },
  {
   "cell_type": "code",
   "execution_count": 3,
   "metadata": {},
   "outputs": [],
   "source": [
    "session = HTMLSession()\n",
    "req = session.get(lux)\n",
    "paragraphs = req.html.find('p')"
   ]
  },
  {
   "cell_type": "code",
   "execution_count": 4,
   "metadata": {},
   "outputs": [],
   "source": [
    "session = HTMLSession()\n",
    "req = session.get(three_60)\n",
    "paragraphs = req.html.find('p')"
   ]
  },
  {
   "cell_type": "code",
   "execution_count": 5,
   "metadata": {},
   "outputs": [
    {
     "data": {
      "text/plain": [
       "['Lease Add-On',\n",
       " 'Room w/ shared bath, 500 Sq. Ft.',\n",
       " 'Compass 1A Studio',\n",
       " 'Studio w/ bath, 662 Sq. Ft.',\n",
       " 'Escape 1A 1 Bed/1 Ba',\n",
       " '1 bed, 1 bath, 874 Sq. Ft.',\n",
       " 'Horizon 2B-G1 2 bed/2 ba',\n",
       " '2 bed, 2 bath, 1128 Sq. Ft.',\n",
       " 'Panorama 2B 2 Bed/2 Ba',\n",
       " '2 bed, 2 bath, 1154 Sq. Ft.',\n",
       " 'Infinity 2A 2 bed/2 ba',\n",
       " '2 bed, 2 bath, 1310 Sq. Ft.',\n",
       " \"Pricing is current as of 04/21/2022. Rental rates, availability, lease terms, deposits, apartment features, amenities and specials are subject to change without notice. Terms may fluctuate based on qualifying standards. Click here to view this community's criteria. Floor plans and square footages displayed are approximations, and may vary between individual units. Quoted prices may not include other fees and charges. Occupancy guidelines may apply unless otherwise specified. Pricing is valid for new residents only. Please see the leasing office for details.\",\n",
       " 'Please select your desired move-in date.',\n",
       " '']"
      ]
     },
     "execution_count": 5,
     "metadata": {},
     "output_type": "execute_result"
    }
   ],
   "source": [
    "[p.text for p in paragraphs]"
   ]
  },
  {
   "cell_type": "code",
   "execution_count": 6,
   "metadata": {},
   "outputs": [],
   "source": [
    "paragraphs = paragraphs[:-3]"
   ]
  },
  {
   "cell_type": "code",
   "execution_count": 7,
   "metadata": {},
   "outputs": [
    {
     "data": {
      "text/plain": [
       "12"
      ]
     },
     "execution_count": 7,
     "metadata": {},
     "output_type": "execute_result"
    }
   ],
   "source": [
    "len(paragraphs)"
   ]
  },
  {
   "cell_type": "code",
   "execution_count": 8,
   "metadata": {},
   "outputs": [
    {
     "name": "stdout",
     "output_type": "stream",
     "text": [
      "hi\n"
     ]
    }
   ],
   "source": [
    "print('hi')"
   ]
  }
 ],
 "metadata": {
  "interpreter": {
   "hash": "54f035d8f59b660b61c28abff1b45c16dd6635c65a287867567bac471e19218a"
  },
  "kernelspec": {
   "display_name": "Python 3.9.12 64-bit (windows store)",
   "language": "python",
   "name": "python3"
  },
  "language_info": {
   "codemirror_mode": {
    "name": "ipython",
    "version": 3
   },
   "file_extension": ".py",
   "mimetype": "text/x-python",
   "name": "python",
   "nbconvert_exporter": "python",
   "pygments_lexer": "ipython3",
   "version": "3.9.12"
  },
  "orig_nbformat": 4
 },
 "nbformat": 4,
 "nbformat_minor": 2
}
