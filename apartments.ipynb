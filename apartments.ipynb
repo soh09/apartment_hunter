{
 "cells": [
  {
   "cell_type": "code",
   "execution_count": 9,
   "metadata": {},
   "outputs": [],
   "source": [
    "from requests_html import HTMLSession"
   ]
  },
  {
   "cell_type": "code",
   "execution_count": 10,
   "metadata": {},
   "outputs": [],
   "source": [
    "lux = 'https://www.on-site.com/web/online_app/choose_unit?goal=6&attr=x20&property_id=225322&lease_id=0&unit_id=0&required='\n",
    "three_60 = 'https://www.on-site.com/web/online_app/choose_unit?goal=6&attr=x20&property_id=191247&lease_id=0&unit_id=0&required='"
   ]
  },
  {
   "cell_type": "code",
   "execution_count": 11,
   "metadata": {},
   "outputs": [],
   "source": [
    "session = HTMLSession()\n",
    "req = session.get(lux)\n",
    "lux_paragraphs = req.html.find('p')"
   ]
  },
  {
   "cell_type": "code",
   "execution_count": 12,
   "metadata": {},
   "outputs": [],
   "source": [
    "lux_paragraphs = lux_paragraphs[:-3]"
   ]
  },
  {
   "cell_type": "code",
   "execution_count": 13,
   "metadata": {},
   "outputs": [],
   "source": [
    "session = HTMLSession()\n",
    "req = session.get(three_60)\n",
    "three_60_paragraphs = req.html.find('p')"
   ]
  },
  {
   "cell_type": "code",
   "execution_count": 14,
   "metadata": {},
   "outputs": [],
   "source": [
    "three_60_paragraphs = three_60_paragraphs[:-3]"
   ]
  },
  {
   "cell_type": "code",
   "execution_count": 15,
   "metadata": {},
   "outputs": [
    {
     "data": {
      "text/plain": [
       "['Lease Add-On', 'Room w/ shared bath, 500 Sq. Ft.']"
      ]
     },
     "execution_count": 15,
     "metadata": {},
     "output_type": "execute_result"
    }
   ],
   "source": [
    "[p.text for p in lux_paragraphs]"
   ]
  },
  {
   "cell_type": "code",
   "execution_count": 17,
   "metadata": {},
   "outputs": [
    {
     "data": {
      "text/plain": [
       "[<Element 'p' class=('floor_plan_name',)>,\n",
       " <Element 'p' class=('floor_plan_size',)>,\n",
       " <Element 'p' class=('floor_plan_name',)>,\n",
       " <Element 'p' class=('floor_plan_size',)>,\n",
       " <Element 'p' class=('floor_plan_name',)>,\n",
       " <Element 'p' class=('floor_plan_size',)>,\n",
       " <Element 'p' class=('floor_plan_name',)>,\n",
       " <Element 'p' class=('floor_plan_size',)>,\n",
       " <Element 'p' class=('floor_plan_name',)>,\n",
       " <Element 'p' class=('floor_plan_size',)>,\n",
       " <Element 'p' class=('floor_plan_name',)>,\n",
       " <Element 'p' class=('floor_plan_size',)>]"
      ]
     },
     "execution_count": 17,
     "metadata": {},
     "output_type": "execute_result"
    }
   ],
   "source": [
    "[p for p in three_60_paragraphs]"
   ]
  },
  {
   "cell_type": "code",
   "execution_count": null,
   "metadata": {},
   "outputs": [],
   "source": []
  }
 ],
 "metadata": {
  "interpreter": {
   "hash": "54f035d8f59b660b61c28abff1b45c16dd6635c65a287867567bac471e19218a"
  },
  "kernelspec": {
   "display_name": "Python 3.9.12 64-bit (windows store)",
   "language": "python",
   "name": "python3"
  },
  "language_info": {
   "codemirror_mode": {
    "name": "ipython",
    "version": 3
   },
   "file_extension": ".py",
   "mimetype": "text/x-python",
   "name": "python",
   "nbconvert_exporter": "python",
   "pygments_lexer": "ipython3",
   "version": "3.9.2"
  },
  "orig_nbformat": 4
 },
 "nbformat": 4,
 "nbformat_minor": 2
}
