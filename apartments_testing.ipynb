{
 "cells": [
  {
   "cell_type": "code",
   "execution_count": 2,
   "metadata": {},
   "outputs": [],
   "source": [
    "import numpy as np\n",
    "import requests\n",
    "from requests_html import HTMLSession\n",
    "from twilio.rest import Client\n",
    "from bs4 import BeautifulSoup"
   ]
  },
  {
   "cell_type": "code",
   "execution_count": 3,
   "metadata": {},
   "outputs": [],
   "source": [
    "lux = 'https://www.on-site.com/web/online_app/choose_unit?goal=6&attr=x20&property_id=225322&lease_id=0&unit_id=0&required='\n",
    "three_60 = 'https://www.on-site.com/web/online_app/choose_unit?goal=6&attr=x20&property_id=191247&lease_id=0&unit_id=0&required='"
   ]
  },
  {
   "cell_type": "code",
   "execution_count": 4,
   "metadata": {},
   "outputs": [],
   "source": [
    "session = HTMLSession()\n",
    "req = session.get(lux)\n",
    "lux_paragraphs = req.html.find('p')\n",
    "lux_paragraphs = lux_paragraphs[:-3]"
   ]
  },
  {
   "cell_type": "code",
   "execution_count": 5,
   "metadata": {},
   "outputs": [],
   "source": [
    "session = HTMLSession()\n",
    "req = session.get(three_60)\n",
    "three_60_paragraphs = req.html.find('p')\n",
    "three_60_paragraphs = three_60_paragraphs[:-3]"
   ]
  },
  {
   "cell_type": "code",
   "execution_count": 6,
   "metadata": {},
   "outputs": [
    {
     "data": {
      "text/plain": [
       "['Lease Add-On', 'Room w/ shared bath, 500 Sq. Ft.']"
      ]
     },
     "execution_count": 6,
     "metadata": {},
     "output_type": "execute_result"
    }
   ],
   "source": [
    "[p.text for p in lux_paragraphs]# if p.attrs['class'][0] == 'floor_plan_name']"
   ]
  },
  {
   "cell_type": "code",
   "execution_count": 7,
   "metadata": {},
   "outputs": [
    {
     "data": {
      "text/plain": [
       "['Lease Add-On',\n",
       " 'Room w/ shared bath, 500 Sq. Ft.',\n",
       " 'Compass 1A Studio',\n",
       " 'Studio w/ bath, 662 Sq. Ft.',\n",
       " 'Escape 1A 1 Bed/1 Ba',\n",
       " '1 bed, 1 bath, 874 Sq. Ft.',\n",
       " 'Horizon 2B-G1 2 bed/2 ba',\n",
       " '2 bed, 2 bath, 1128 Sq. Ft.',\n",
       " 'Panorama 2B 2 Bed/2 Ba',\n",
       " '2 bed, 2 bath, 1154 Sq. Ft.',\n",
       " 'Infinity 2A 2 bed/2 ba',\n",
       " '2 bed, 2 bath, 1310 Sq. Ft.']"
      ]
     },
     "execution_count": 7,
     "metadata": {},
     "output_type": "execute_result"
    }
   ],
   "source": [
    "[p.text for p in three_60_paragraphs]# if p.attrs['class'][0] == 'floor_plan_name']"
   ]
  },
  {
   "cell_type": "code",
   "execution_count": 8,
   "metadata": {},
   "outputs": [],
   "source": [
    "a = lux_paragraphs[0]"
   ]
  },
  {
   "cell_type": "code",
   "execution_count": 9,
   "metadata": {},
   "outputs": [
    {
     "data": {
      "text/plain": [
       "str"
      ]
     },
     "execution_count": 9,
     "metadata": {},
     "output_type": "execute_result"
    }
   ],
   "source": [
    "type(a.attrs['class'][0])"
   ]
  },
  {
   "cell_type": "code",
   "execution_count": 10,
   "metadata": {},
   "outputs": [
    {
     "name": "stdout",
     "output_type": "stream",
     "text": [
      "{'Lease Add-On': ['Room w/ shared bath, 500 Sq. Ft.']}\n"
     ]
    }
   ],
   "source": [
    "lux_dict = {}\n",
    "current_plan = \"\"\n",
    "\n",
    "for p in lux_paragraphs:\n",
    "    # print(p.text)\n",
    "    if (p.attrs['class'][0] == 'floor_plan_name') & (p.text not in lux_dict):\n",
    "        # print(\"adding \" + p.text + \" to dict\")\n",
    "        lux_dict[p.text] = []\n",
    "        current_plan = p.text\n",
    "        # print(lux_dict)\n",
    "    else:\n",
    "        # print(\"adding \" + p.text + \" to \" + current_plan)\n",
    "        lux_dict[current_plan].append(p.text)\n",
    "    # print(lux_dict)\n",
    "print(lux_dict)\n",
    "    "
   ]
  },
  {
   "cell_type": "code",
   "execution_count": 11,
   "metadata": {},
   "outputs": [],
   "source": [
    "def make_dict(ps):\n",
    "    current_plan = \"\"\n",
    "    d = {}\n",
    "    for p in ps:\n",
    "        if (p.attrs['class'][0] == 'floor_plan_name') & (p.text not in d):\n",
    "            d[p.text] = []\n",
    "            current_plan = p.text\n",
    "        else:\n",
    "            d[current_plan].append(p.text)\n",
    "    return d"
   ]
  },
  {
   "cell_type": "code",
   "execution_count": 12,
   "metadata": {},
   "outputs": [],
   "source": [
    "three_60_d = make_dict(three_60_paragraphs)\n",
    "lux_d = make_dict(lux_paragraphs)"
   ]
  },
  {
   "cell_type": "code",
   "execution_count": 14,
   "metadata": {},
   "outputs": [
    {
     "name": "stdout",
     "output_type": "stream",
     "text": [
      "dict_keys(['Lease Add-On'])\n"
     ]
    }
   ],
   "source": [
    "print(lux_d.keys())"
   ]
  },
  {
   "cell_type": "code",
   "execution_count": 16,
   "metadata": {},
   "outputs": [
    {
     "name": "stdout",
     "output_type": "stream",
     "text": [
      "SMa4643f22965b41cc909a163fe5dff307\n"
     ]
    }
   ],
   "source": [
    "from twilio.rest import Client \n",
    " \n",
    "account_sid = 'ACb89be4618d01504371ee5a71581e0a4d' \n",
    "auth_token = '' \n",
    "client = Client(account_sid, auth_token) \n",
    " \n",
    "message = client.messages.create(  \n",
    "                              messaging_service_sid='MG9b262dfc07ca251f557ea5206000f0cc', \n",
    "                              body='update:' + str(lux_d.keys()),      \n",
    "                              to='+16502914624') \n",
    " \n",
    "print(message.sid)"
   ]
  }
 ],
 "metadata": {
  "interpreter": {
   "hash": "54f035d8f59b660b61c28abff1b45c16dd6635c65a287867567bac471e19218a"
  },
  "kernelspec": {
   "display_name": "Python 3.9.12 64-bit (windows store)",
   "language": "python",
   "name": "python3"
  },
  "language_info": {
   "codemirror_mode": {
    "name": "ipython",
    "version": 3
   },
   "file_extension": ".py",
   "mimetype": "text/x-python",
   "name": "python",
   "nbconvert_exporter": "python",
   "pygments_lexer": "ipython3",
   "version": "3.9.2"
  },
  "orig_nbformat": 4
 },
 "nbformat": 4,
 "nbformat_minor": 2
}
