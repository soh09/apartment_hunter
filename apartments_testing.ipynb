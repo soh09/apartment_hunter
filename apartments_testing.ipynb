{
 "cells": [
  {
   "cell_type": "code",
   "execution_count": 26,
   "metadata": {},
   "outputs": [],
   "source": [
    "import numpy as np\n",
    "import requests\n",
    "from requests_html import HTMLSession\n",
    "from twilio.rest import Client\n",
    "from bs4 import BeautifulSoup\n",
    "from time import time\n"
   ]
  },
  {
   "cell_type": "code",
   "execution_count": 3,
   "metadata": {},
   "outputs": [],
   "source": [
    "lux = 'https://www.on-site.com/web/online_app/choose_unit?goal=6&attr=x20&property_id=225322&lease_id=0&unit_id=0&required='\n",
    "three_60 = 'https://www.on-site.com/web/online_app/choose_unit?goal=6&attr=x20&property_id=191247&lease_id=0&unit_id=0&required='"
   ]
  },
  {
   "cell_type": "code",
   "execution_count": 4,
   "metadata": {},
   "outputs": [],
   "source": [
    "session = HTMLSession()\n",
    "req = session.get(lux)\n",
    "lux_paragraphs = req.html.find('p')\n",
    "lux_paragraphs = lux_paragraphs[:-3]"
   ]
  },
  {
   "cell_type": "code",
   "execution_count": 5,
   "metadata": {},
   "outputs": [],
   "source": [
    "session = HTMLSession()\n",
    "req = session.get(three_60)\n",
    "three_60_paragraphs = req.html.find('p')\n",
    "three_60_paragraphs = three_60_paragraphs[:-3]"
   ]
  },
  {
   "cell_type": "code",
   "execution_count": 6,
   "metadata": {},
   "outputs": [
    {
     "data": {
      "text/plain": [
       "['Lease Add-On', 'Room w/ shared bath, 500 Sq. Ft.']"
      ]
     },
     "execution_count": 6,
     "metadata": {},
     "output_type": "execute_result"
    }
   ],
   "source": [
    "[p.text for p in lux_paragraphs]# if p.attrs['class'][0] == 'floor_plan_name']"
   ]
  },
  {
   "cell_type": "code",
   "execution_count": 7,
   "metadata": {},
   "outputs": [
    {
     "data": {
      "text/plain": [
       "['Lease Add-On',\n",
       " 'Room w/ shared bath, 500 Sq. Ft.',\n",
       " 'Compass 1A Studio',\n",
       " 'Studio w/ bath, 662 Sq. Ft.',\n",
       " 'Escape 1A 1 Bed/1 Ba',\n",
       " '1 bed, 1 bath, 874 Sq. Ft.',\n",
       " 'Horizon 2B-G1 2 bed/2 ba',\n",
       " '2 bed, 2 bath, 1128 Sq. Ft.',\n",
       " 'Panorama 2B 2 Bed/2 Ba',\n",
       " '2 bed, 2 bath, 1154 Sq. Ft.',\n",
       " 'Infinity 2A 2 bed/2 ba',\n",
       " '2 bed, 2 bath, 1310 Sq. Ft.']"
      ]
     },
     "execution_count": 7,
     "metadata": {},
     "output_type": "execute_result"
    }
   ],
   "source": [
    "[p.text for p in three_60_paragraphs]# if p.attrs['class'][0] == 'floor_plan_name']"
   ]
  },
  {
   "cell_type": "code",
   "execution_count": 8,
   "metadata": {},
   "outputs": [],
   "source": [
    "a = lux_paragraphs[0]"
   ]
  },
  {
   "cell_type": "code",
   "execution_count": 9,
   "metadata": {},
   "outputs": [
    {
     "data": {
      "text/plain": [
       "str"
      ]
     },
     "execution_count": 9,
     "metadata": {},
     "output_type": "execute_result"
    }
   ],
   "source": [
    "type(a.attrs['class'][0])"
   ]
  },
  {
   "cell_type": "code",
   "execution_count": 10,
   "metadata": {},
   "outputs": [
    {
     "name": "stdout",
     "output_type": "stream",
     "text": [
      "{'Lease Add-On': ['Room w/ shared bath, 500 Sq. Ft.']}\n"
     ]
    }
   ],
   "source": [
    "lux_dict = {}\n",
    "current_plan = \"\"\n",
    "\n",
    "for p in lux_paragraphs:\n",
    "    # print(p.text)\n",
    "    if (p.attrs['class'][0] == 'floor_plan_name') & (p.text not in lux_dict):\n",
    "        # print(\"adding \" + p.text + \" to dict\")\n",
    "        lux_dict[p.text] = []\n",
    "        current_plan = p.text\n",
    "        # print(lux_dict)\n",
    "    else:\n",
    "        # print(\"adding \" + p.text + \" to \" + current_plan)\n",
    "        lux_dict[current_plan].append(p.text)\n",
    "    # print(lux_dict)\n",
    "print(lux_dict)\n",
    "    "
   ]
  },
  {
   "cell_type": "code",
   "execution_count": 11,
   "metadata": {},
   "outputs": [],
   "source": [
    "def make_dict(ps):\n",
    "    current_plan = \"\"\n",
    "    d = {}\n",
    "    for p in ps:\n",
    "        if (p.attrs['class'][0] == 'floor_plan_name') & (p.text not in d):\n",
    "            d[p.text] = []\n",
    "            current_plan = p.text\n",
    "        else:\n",
    "            d[current_plan].append(p.text)\n",
    "    return d"
   ]
  },
  {
   "cell_type": "code",
   "execution_count": 12,
   "metadata": {},
   "outputs": [],
   "source": [
    "three_60_d = make_dict(three_60_paragraphs)\n",
    "lux_d = make_dict(lux_paragraphs)"
   ]
  },
  {
   "cell_type": "code",
   "execution_count": 13,
   "metadata": {},
   "outputs": [
    {
     "name": "stdout",
     "output_type": "stream",
     "text": [
      "dict_keys(['Lease Add-On'])\n"
     ]
    }
   ],
   "source": [
    "print(lux_d.keys())"
   ]
  },
  {
   "cell_type": "code",
   "execution_count": 21,
   "metadata": {},
   "outputs": [
    {
     "ename": "TwilioException",
     "evalue": "Credentials are required to create a TwilioClient",
     "output_type": "error",
     "traceback": [
      "\u001b[0;31m---------------------------------------------------------------------------\u001b[0m",
      "\u001b[0;31mTwilioException\u001b[0m                           Traceback (most recent call last)",
      "\u001b[1;32m/Users/hiro002/Documents/git/apartment_hunter/apartments_testing.ipynb Cell 13'\u001b[0m in \u001b[0;36m<module>\u001b[0;34m\u001b[0m\n\u001b[1;32m      <a href='vscode-notebook-cell:/Users/hiro002/Documents/git/apartment_hunter/apartments_testing.ipynb#ch0000012?line=2'>3</a>\u001b[0m account_sid \u001b[39m=\u001b[39m \u001b[39m'\u001b[39m\u001b[39mACb89be4618d01504371ee5a71581e0a4d\u001b[39m\u001b[39m'\u001b[39m \n\u001b[1;32m      <a href='vscode-notebook-cell:/Users/hiro002/Documents/git/apartment_hunter/apartments_testing.ipynb#ch0000012?line=3'>4</a>\u001b[0m auth_token \u001b[39m=\u001b[39m \u001b[39m'\u001b[39m\u001b[39m'\u001b[39m \n\u001b[0;32m----> <a href='vscode-notebook-cell:/Users/hiro002/Documents/git/apartment_hunter/apartments_testing.ipynb#ch0000012?line=4'>5</a>\u001b[0m client \u001b[39m=\u001b[39m Client(account_sid, auth_token) \n\u001b[1;32m      <a href='vscode-notebook-cell:/Users/hiro002/Documents/git/apartment_hunter/apartments_testing.ipynb#ch0000012?line=6'>7</a>\u001b[0m message \u001b[39m=\u001b[39m client\u001b[39m.\u001b[39mmessages\u001b[39m.\u001b[39mcreate(  \n\u001b[1;32m      <a href='vscode-notebook-cell:/Users/hiro002/Documents/git/apartment_hunter/apartments_testing.ipynb#ch0000012?line=7'>8</a>\u001b[0m                               messaging_service_sid\u001b[39m=\u001b[39m\u001b[39m'\u001b[39m\u001b[39mMG9b262dfc07ca251f557ea5206000f0cc\u001b[39m\u001b[39m'\u001b[39m, \n\u001b[1;32m      <a href='vscode-notebook-cell:/Users/hiro002/Documents/git/apartment_hunter/apartments_testing.ipynb#ch0000012?line=8'>9</a>\u001b[0m                               body\u001b[39m=\u001b[39m\u001b[39m'\u001b[39m\u001b[39mupdate:\u001b[39m\u001b[39m'\u001b[39m \u001b[39m+\u001b[39m \u001b[39mstr\u001b[39m(lux_d\u001b[39m.\u001b[39mkeys()),      \n\u001b[1;32m     <a href='vscode-notebook-cell:/Users/hiro002/Documents/git/apartment_hunter/apartments_testing.ipynb#ch0000012?line=9'>10</a>\u001b[0m                               to\u001b[39m=\u001b[39m\u001b[39m'\u001b[39m\u001b[39m+16502914624\u001b[39m\u001b[39m'\u001b[39m) \n\u001b[1;32m     <a href='vscode-notebook-cell:/Users/hiro002/Documents/git/apartment_hunter/apartments_testing.ipynb#ch0000012?line=11'>12</a>\u001b[0m \u001b[39mprint\u001b[39m(message\u001b[39m.\u001b[39msid)\n",
      "File \u001b[0;32m/Library/Frameworks/Python.framework/Versions/3.9/lib/python3.9/site-packages/twilio/rest/__init__.py:58\u001b[0m, in \u001b[0;36mClient.__init__\u001b[0;34m(self, username, password, account_sid, region, http_client, environment, edge, user_agent_extensions)\u001b[0m\n\u001b[1;32m     <a href='file:///Library/Frameworks/Python.framework/Versions/3.9/lib/python3.9/site-packages/twilio/rest/__init__.py?line=54'>55</a>\u001b[0m \u001b[39m\"\"\" :type : list[str] \"\"\"\u001b[39;00m\n\u001b[1;32m     <a href='file:///Library/Frameworks/Python.framework/Versions/3.9/lib/python3.9/site-packages/twilio/rest/__init__.py?line=56'>57</a>\u001b[0m \u001b[39mif\u001b[39;00m \u001b[39mnot\u001b[39;00m \u001b[39mself\u001b[39m\u001b[39m.\u001b[39musername \u001b[39mor\u001b[39;00m \u001b[39mnot\u001b[39;00m \u001b[39mself\u001b[39m\u001b[39m.\u001b[39mpassword:\n\u001b[0;32m---> <a href='file:///Library/Frameworks/Python.framework/Versions/3.9/lib/python3.9/site-packages/twilio/rest/__init__.py?line=57'>58</a>\u001b[0m     \u001b[39mraise\u001b[39;00m TwilioException(\u001b[39m\"\u001b[39m\u001b[39mCredentials are required to create a TwilioClient\u001b[39m\u001b[39m\"\u001b[39m)\n\u001b[1;32m     <a href='file:///Library/Frameworks/Python.framework/Versions/3.9/lib/python3.9/site-packages/twilio/rest/__init__.py?line=59'>60</a>\u001b[0m \u001b[39mself\u001b[39m\u001b[39m.\u001b[39mauth \u001b[39m=\u001b[39m (\u001b[39mself\u001b[39m\u001b[39m.\u001b[39musername, \u001b[39mself\u001b[39m\u001b[39m.\u001b[39mpassword)\n\u001b[1;32m     <a href='file:///Library/Frameworks/Python.framework/Versions/3.9/lib/python3.9/site-packages/twilio/rest/__init__.py?line=60'>61</a>\u001b[0m \u001b[39m\"\"\" :type : tuple(str, str) \"\"\"\u001b[39;00m\n",
      "\u001b[0;31mTwilioException\u001b[0m: Credentials are required to create a TwilioClient"
     ]
    }
   ],
   "source": [
    "from twilio.rest import Client \n",
    " \n",
    "account_sid = 'ACb89be4618d01504371ee5a71581e0a4d' \n",
    "auth_token = '257e09038f86713f5d78f6e025a0ebdb' \n",
    "client = Client(account_sid, auth_token) \n",
    " \n",
    "message = client.messages.create(  \n",
    "                              messaging_service_sid='MG9b262dfc07ca251f557ea5206000f0cc', \n",
    "                              body='update:' + str(lux_d.keys()),      \n",
    "                              to='+16502914624') \n",
    " \n",
    "print(message.sid)"
   ]
  },
  {
   "cell_type": "code",
   "execution_count": 16,
   "metadata": {},
   "outputs": [],
   "source": [
    "def get_difference(d_before, d_current):\n",
    "    message = \"\"\n",
    "    if (len(d_before)) > len(d_current):\n",
    "        taken = \"\\n\".join(d_before.keys() - d_current.keys())\n",
    "        message = \"Listing removed update: \" + taken\n",
    "    else:\n",
    "        added = \"\\n\".join(d_current.keys() - d_before.keys())\n",
    "        message = \"New listing update: \" + added\n",
    "    return message"
   ]
  },
  {
   "cell_type": "code",
   "execution_count": 19,
   "metadata": {},
   "outputs": [
    {
     "data": {
      "text/plain": [
       "'New listing update: Panorama 2B 2 Bed/2 Ba\\nInfinity 2A 2 bed/2 ba\\nEscape 1A 1 Bed/1 Ba\\nHorizon 2B-G1 2 bed/2 ba\\nCompass 1A Studio'"
      ]
     },
     "execution_count": 19,
     "metadata": {},
     "output_type": "execute_result"
    }
   ],
   "source": [
    "get_difference(lux_d, three_60_d)"
   ]
  },
  {
   "cell_type": "code",
   "execution_count": 20,
   "metadata": {},
   "outputs": [
    {
     "data": {
      "text/plain": [
       "'Lease Add-On'"
      ]
     },
     "execution_count": 20,
     "metadata": {},
     "output_type": "execute_result"
    }
   ],
   "source": [
    "\"\\n\".join(lux_d.keys())"
   ]
  },
  {
   "cell_type": "code",
   "execution_count": 22,
   "metadata": {},
   "outputs": [],
   "source": [
    "def get_html(url):\n",
    "    session = HTMLSession()\n",
    "    req = session.get(url)\n",
    "    paragraphs = req.html.find('p')\n",
    "    paragraphs = paragraphs[:-3]\n",
    "\n",
    "    return paragraphs\n",
    "\n",
    "def make_dict(ps):\n",
    "    current_plan = \"\"\n",
    "    d = {}\n",
    "    for p in ps:\n",
    "        if (p.attrs['class'][0] == 'floor_plan_name') & (p.text not in d):\n",
    "            d[p.text] = []\n",
    "            current_plan = p.text\n",
    "        else:\n",
    "            d[current_plan].append(p.text)\n",
    "    return d\n",
    "\n",
    "def get_difference(d_before, d_current):\n",
    "    message = \"\"\n",
    "    if (len(d_before)) > len(d_current):\n",
    "        taken = \", \".join(d_before.keys() - d_current.keys())\n",
    "        message = \"Listing removed update: \" + taken\n",
    "    else:\n",
    "        added = \", \".join(d_current.keys() - d_before.keys())\n",
    "        message = \"New listing update: \" + added\n",
    "\n",
    "    return message\n",
    "\n",
    "def send_sms(message):\n",
    "    account_sid = 'ACb89be4618d01504371ee5a71581e0a4d' \n",
    "    auth_token = '257e09038f86713f5d78f6e025a0ebdb' \n",
    "    client = Client(account_sid, auth_token) \n",
    "    \n",
    "    message = client.messages.create(messaging_service_sid='MG9b262dfc07ca251f557ea5206000f0cc', body=message, to='+16502914624') "
   ]
  },
  {
   "cell_type": "code",
   "execution_count": 23,
   "metadata": {},
   "outputs": [],
   "source": [
    "minute_before_lux_d = make_dict(get_html(three_60))\n",
    "minute_before_three_60_d = make_dict(get_html(lux))"
   ]
  },
  {
   "cell_type": "code",
   "execution_count": 34,
   "metadata": {},
   "outputs": [],
   "source": [
    "lux = 'https://www.on-site.com/web/online_app/choose_unit?goal=6&attr=x20&property_id=225322&lease_id=0&unit_id=0&required='\n",
    "three_60 = 'https://www.on-site.com/web/online_app/choose_unit?goal=6&attr=x20&property_id=191247&lease_id=0&unit_id=0&required='\n",
    "\n",
    "minute_before_lux = {}\n",
    "minute_before_three_60 = {}\n",
    "\n",
    "def get_html(url):\n",
    "    session = HTMLSession()\n",
    "    req = session.get(url)\n",
    "    paragraphs = req.html.find('p')\n",
    "    paragraphs = paragraphs[:-3]\n",
    "\n",
    "    return paragraphs\n",
    "\n",
    "def make_dict(ps):\n",
    "    current_plan = \"\"\n",
    "    d = {}\n",
    "    for p in ps:\n",
    "        if (p.attrs['class'][0] == 'floor_plan_name') & (p.text not in d):\n",
    "            d[p.text] = []\n",
    "            current_plan = p.text\n",
    "        else:\n",
    "            d[current_plan].append(p.text)\n",
    "    return d\n",
    "\n",
    "def get_difference(d_before, d_current):\n",
    "    message = \"\"\n",
    "    if (len(d_before)) > len(d_current):\n",
    "        taken = \", \".join(d_before.keys() - d_current.keys())\n",
    "        message = \"Listing removed update: \" + taken\n",
    "    else:\n",
    "        added = \", \".join(d_current.keys() - d_before.keys())\n",
    "        message = \"New listing update: \" + added\n",
    "\n",
    "    return message\n",
    "\n",
    "def send_sms(message):\n",
    "    account_sid = 'ACb89be4618d01504371ee5a71581e0a4d' \n",
    "    auth_token = '257e09038f86713f5d78f6e025a0ebdb' \n",
    "    client = Client(account_sid, auth_token) \n",
    "    \n",
    "    # sending to so\n",
    "    message = client.messages.create(messaging_service_sid='MG9b262dfc07ca251f557ea5206000f0cc', body=message, to='+16502914624') \n",
    "    # sending to zack\n",
    "    # message = client.messages.create(messaging_service_sid='MG9b262dfc07ca251f557ea5206000f0cc', body=message, to='+17605045501') \n",
    "    # sending to peter\n",
    "    # message = client.messages.create(messaging_service_sid='MG9b262dfc07ca251f557ea5206000f0cc', body=message, to='+16193175276') \n",
    "    \n"
   ]
  },
  {
   "cell_type": "code",
   "execution_count": 39,
   "metadata": {},
   "outputs": [
    {
     "name": "stdout",
     "output_type": "stream",
     "text": [
      "sending message\n"
     ]
    }
   ],
   "source": [
    "three_60_d = make_dict(get_html(three_60))\n",
    "lux_d = make_dict(get_html(lux))\n",
    "\n",
    "if len(minute_before_three_60_d) != len(lux_d):\n",
    "    print(\"sending message\")\n",
    "    message = get_difference(\"Lux UTC\", minute_before_three_60_d, lux_d)\n",
    "    minute_before_lux_d = lux_d\n",
    "    send_sms(message)\n",
    "\n",
    "if len(minute_before_three_60_d) != len(three_60_d):\n",
    "    message = get_difference(\"360 Lux\", minute_before_three_60_d, three_60_d)\n",
    "    minute_before_three_60_d = three_60_d\n",
    "    send_sms(message)"
   ]
  },
  {
   "cell_type": "code",
   "execution_count": 28,
   "metadata": {},
   "outputs": [],
   "source": [
    "import time"
   ]
  },
  {
   "cell_type": "code",
   "execution_count": 37,
   "metadata": {},
   "outputs": [],
   "source": [
    "def get_difference(name, d_before, d_current):\n",
    "    message = \"\"\n",
    "    if (len(d_before)) > len(d_current):\n",
    "        taken = \", \".join(d_before.keys() - d_current.keys())\n",
    "        message = \"[\" + name + \"] \" + \"Listing removed update: \" + taken\n",
    "    else:\n",
    "        added = \", \".join(d_current.keys() - d_before.keys())\n",
    "        message = \"[\" + name + \"] \" + \"New listing update: \" + added\n",
    "\n",
    "    return message"
   ]
  },
  {
   "cell_type": "code",
   "execution_count": 40,
   "metadata": {},
   "outputs": [
    {
     "data": {
      "text/plain": [
       "<module 'time' (built-in)>"
      ]
     },
     "execution_count": 40,
     "metadata": {},
     "output_type": "execute_result"
    }
   ],
   "source": [
    "time.cu"
   ]
  },
  {
   "cell_type": "code",
   "execution_count": 45,
   "metadata": {},
   "outputs": [
    {
     "name": "stdout",
     "output_type": "stream",
     "text": [
      "now = 2022-04-22 14:20:39.182014\n",
      "date and time = 22/04/2022 14:20:39\n"
     ]
    }
   ],
   "source": [
    "from datetime import datetime\n",
    "\n",
    "# datetime object containing current date and time\n",
    "now = datetime.now()\n",
    " \n",
    "print(\"now =\", now)\n",
    "\n",
    "# dd/mm/YY H:M:S\n",
    "dt_string = now.strftime(\"%d/%m/%Y %H:%M:%S\")\n",
    "print(\"date and time =\", dt_string)\t"
   ]
  },
  {
   "cell_type": "code",
   "execution_count": null,
   "metadata": {},
   "outputs": [],
   "source": []
  }
 ],
 "metadata": {
  "interpreter": {
   "hash": "54f035d8f59b660b61c28abff1b45c16dd6635c65a287867567bac471e19218a"
  },
  "kernelspec": {
   "display_name": "Python 3.9.12 64-bit (windows store)",
   "language": "python",
   "name": "python3"
  },
  "language_info": {
   "codemirror_mode": {
    "name": "ipython",
    "version": 3
   },
   "file_extension": ".py",
   "mimetype": "text/x-python",
   "name": "python",
   "nbconvert_exporter": "python",
   "pygments_lexer": "ipython3",
   "version": "3.9.2"
  },
  "orig_nbformat": 4
 },
 "nbformat": 4,
 "nbformat_minor": 2
}
